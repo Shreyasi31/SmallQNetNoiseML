{
 "cells": [
  {
   "cell_type": "markdown",
   "metadata": {},
   "source": [
    "# Imports"
   ]
  },
  {
   "cell_type": "code",
   "execution_count": 1,
   "metadata": {
    "colab": {
     "base_uri": "https://localhost:8080/"
    },
    "executionInfo": {
     "elapsed": 9417,
     "status": "ok",
     "timestamp": 1701790404518,
     "user": {
      "displayName": "Shreyasi Mukherjee",
      "userId": "04360795924075276805"
     },
     "user_tz": -60
    },
    "id": "7i9jUzWQbDPV",
    "outputId": "fb29235c-f3d0-4b47-fe0c-386e873beff6"
   },
   "outputs": [],
   "source": [
    "import copy\n",
    "from multiprocessing import Pool, cpu_count\n",
    "\n",
    "import matplotlib.gridspec as gridspec\n",
    "import matplotlib.pyplot as plt\n",
    "import numpy as np\n",
    "from matplotlib import cm\n",
    "from matplotlib.ticker import LinearLocator\n",
    "from qutip import *\n",
    "from scipy.integrate import quad, simpson\n",
    "from smallqnetnoiseML_functions import *\n",
    "from tqdm.auto import tqdm\n",
    "\n",
    "np.random.seed(1856543034)"
   ]
  },
  {
   "cell_type": "markdown",
   "metadata": {
    "id": "KFbGI7vH_BtR"
   },
   "source": [
    "# Parameters"
   ]
  },
  {
   "cell_type": "markdown",
   "metadata": {
    "id": "PSmXtpclAsrS"
   },
   "source": [
    "## Hamiltonians under consideration\n",
    "Diagonal Hamiltonian: $H_0 = \\delta_p\\ket{1}\\bra{1} + \\delta\\ket{2}\\bra{2}$\\\n",
    "Control Hamiltonian: $H_c = \\frac{\\Omega_p(t)}{2}(\\ket{0}\\bra{1}+ \\ket{1}\\bra{0}) + \\frac{\\Omega_s(t)}{2}(\\ket{1}\\bra{2} + \\bra{2}\\ket{1})$\\\n",
    "Noise Hamiltonian: $H_\\mathrm{noise} = \\tilde x_1(t)\\ket{1}\\bra{1} + \\tilde x_2(t)\\ket{2}\\bra{2}$\\\n",
    "Total Hamiltonian: $H = H_0 + H_c + H_\\mathrm{noise}$"
   ]
  },
  {
   "cell_type": "code",
   "execution_count": 7,
   "metadata": {
    "executionInfo": {
     "elapsed": 826,
     "status": "ok",
     "timestamp": 1701790417868,
     "user": {
      "displayName": "Shreyasi Mukherjee",
      "userId": "04360795924075276805"
     },
     "user_tz": -60
    },
    "id": "sG8qbYPv-zBO"
   },
   "outputs": [],
   "source": [
    "T = 1\n",
    "τ = 0.7 * T\n",
    "N = 311\n",
    "Ωp_max = 50 / T\n",
    "Ωs_max = 50 / T\n",
    "γ = 2.5 / T\n",
    "t = np.linspace(-5, 5, 257) * T\n",
    "t_noise = np.linspace(-5, 5, N) * T\n",
    "\n",
    "η = 0.5\n",
    "\n",
    "δ = 0\n",
    "δp = 0\n",
    "\n",
    "Δt = t_noise[1] - t_noise[0]\n",
    "\n",
    "σ = 17.6068\n",
    "\n",
    "# For Gaussian distribution\n",
    "x1, x2 = -5 * σ, 5 * σ\n",
    "xrange = np.linspace(x1, x2, 311)\n",
    "\n",
    "\n",
    "# Tunneling rate between dot1 and dot2/Pump field\n",
    "def Omega_p(t, args):\n",
    "    return args[\"Ωp_max\"] * np.exp(-(((t - args[\"τ\"]) / args[\"T\"]) ** 2))\n",
    "\n",
    "\n",
    "# Tunneling rate between dot2 and dot3/Stokes field\n",
    "def Omega_s(t, args):\n",
    "    return args[\"Ωs_max\"] * np.exp(-(((t + args[\"τ\"]) / args[\"T\"]) ** 2))\n",
    "\n",
    "\n",
    "H0 = δp * e * e.dag() + δ * r * r.dag()  # Diagonal Hamiltonian\n",
    "ψA0 = g  # Initial state of the system\n",
    "\n",
    "if γ >= 0.0:\n",
    "    c_ops = np.sqrt(γ) * (e * e.dag() + η * r * r.dag())  # Collapse operator = sqrt(γ)A\n",
    "\n",
    "pars = {\n",
    "    \"Ωp_max\": Ωp_max,\n",
    "    \"Ωs_max\": Ωs_max,\n",
    "    \"τ\": τ,\n",
    "    \"T\": T,\n",
    "    \"ψA0\": ψA0,\n",
    "    \"xrange\": xrange,\n",
    "    \"N\": N,\n",
    "    \"δ\": δ,\n",
    "    \"δp\": δp,\n",
    "    \"γ\": γ,\n",
    "}"
   ]
  },
  {
   "cell_type": "markdown",
   "metadata": {
    "id": "FONwoONbCc46"
   },
   "source": [
    "# Data set generation"
   ]
  },
  {
   "cell_type": "code",
   "execution_count": 69,
   "metadata": {
    "id": "uA5z-zVvZ6WR"
   },
   "outputs": [],
   "source": [
    "# Maximum tunnelling amplitudes under three conditions: Ωp_max = Ωs_max, Ωp_max > Ωs_max, Ωp_max < Ωs_max\n",
    "Ωp_max = [50.0, 20 * np.sqrt(10), 10 * np.sqrt(10)]\n",
    "Ωs_max = [50.0, 10 * np.sqrt(10), 20 * np.sqrt(10)]\n",
    "\n",
    "num_trajectories = 225\n",
    "num_samples = 500"
   ]
  },
  {
   "cell_type": "markdown",
   "metadata": {
    "id": "R1RhnC5VZ6WR"
   },
   "source": [
    "## Data for correlated, non-Markovian quasistatic noise"
   ]
  },
  {
   "cell_type": "code",
   "execution_count": 9,
   "metadata": {
    "id": "uA5z-zVvZ6WR"
   },
   "outputs": [],
   "source": [
    "# Range of correlation parameter η for correlated, non-Markovian quasistatic noise\n",
    "ηrange_correlated = np.random.uniform(0.1, 5, num_samples)\n",
    "\n",
    "\n",
    "def get_data_CN_wrapper(i):\n",
    "    result = get_data_CN(\n",
    "        t,\n",
    "        gaussian,\n",
    "        Omega_p,\n",
    "        Omega_s,\n",
    "        Ωp_max,\n",
    "        Ωs_max,\n",
    "        [ηrange_correlated[i]],\n",
    "        num_trajectories,\n",
    "        1,\n",
    "        pars,\n",
    "    )\n",
    "    return result"
   ]
  },
  {
   "cell_type": "code",
   "execution_count": 10,
   "metadata": {
    "id": "lY_KyQABZ6WS",
    "outputId": "2c0288bc-a272-4aa2-d9c0-2f534ead0fa4"
   },
   "outputs": [
    {
     "data": {
      "application/vnd.jupyter.widget-view+json": {
       "model_id": "01f4b91d6e5b4a24ba3a4187ceac59ee",
       "version_major": 2,
       "version_minor": 0
      },
      "text/plain": [
       "  0%|          | 0/50 [00:00<?, ?it/s]"
      ]
     },
     "metadata": {},
     "output_type": "display_data"
    }
   ],
   "source": [
    "data = []\n",
    "with Pool(processes=cpu_count() - 6) as pool:\n",
    "    for x in tqdm(\n",
    "        pool.imap(get_data_CN_wrapper, np.arange(num_samples)), total=num_samples\n",
    "    ):\n",
    "        data += [x]"
   ]
  },
  {
   "cell_type": "code",
   "execution_count": null,
   "metadata": {
    "id": "GmqsOBd0Z6WT"
   },
   "outputs": [],
   "source": [
    "data1 = process_parallel_data(data)\n",
    "efficiency_correlated, y_correlated, eta_CN = data1"
   ]
  },
  {
   "cell_type": "code",
   "execution_count": 13,
   "metadata": {
    "id": "ZfxOutdXZ6WT"
   },
   "outputs": [],
   "source": [
    "# save_object(\n",
    "#     [efficiency_correlated, y_correlated, eta_CN],\n",
    "#     \"../data/data_CN.pkl\",\n",
    "# )"
   ]
  },
  {
   "cell_type": "code",
   "execution_count": 14,
   "metadata": {
    "executionInfo": {
     "elapsed": 663,
     "status": "ok",
     "timestamp": 1701787321895,
     "user": {
      "displayName": "Shreyasi Mukherjee",
      "userId": "04360795924075276805"
     },
     "user_tz": -60
    },
    "id": "ekdUMomgrLUv"
   },
   "outputs": [],
   "source": [
    "efficiency_correlated, y_correlated, eta_CN = load_object(\n",
    "    \"../data/data_CN.pkl\",\n",
    ")"
   ]
  },
  {
   "cell_type": "markdown",
   "metadata": {
    "id": "ftVbqxciZ6WT"
   },
   "source": [
    "## Data for anti-correlated, non-Markovian quasistatic noise"
   ]
  },
  {
   "cell_type": "code",
   "execution_count": 15,
   "metadata": {
    "id": "1KuGokIcZ6WU"
   },
   "outputs": [],
   "source": [
    "# Range of correlation parameter η for correlated, non-Markovian quasistatic noise\n",
    "ηrange_anti_correlated = np.random.uniform(-5, -0.1, num_samples)\n",
    "\n",
    "\n",
    "def get_data_ACN_wrapper(i):\n",
    "    result = get_data_ACN(\n",
    "        t,\n",
    "        gaussian,\n",
    "        Omega_p,\n",
    "        Omega_s,\n",
    "        Ωp_max,\n",
    "        Ωs_max,\n",
    "        [ηrange_anti_correlated[i]],\n",
    "        num_trajectories,\n",
    "        1,\n",
    "        pars,\n",
    "    )\n",
    "    return result"
   ]
  },
  {
   "cell_type": "code",
   "execution_count": 16,
   "metadata": {
    "id": "Cj1o8zGMZ6WV",
    "outputId": "3aed8839-8dad-435d-b45e-d3b19680af33"
   },
   "outputs": [
    {
     "data": {
      "application/vnd.jupyter.widget-view+json": {
       "model_id": "11de7c8ea2bf499db876c24491fa5210",
       "version_major": 2,
       "version_minor": 0
      },
      "text/plain": [
       "  0%|          | 0/50 [00:00<?, ?it/s]"
      ]
     },
     "metadata": {},
     "output_type": "display_data"
    }
   ],
   "source": [
    "data = []\n",
    "with Pool(processes=cpu_count() - 2) as pool:\n",
    "    for x in tqdm(\n",
    "        pool.imap(get_data_ACN_wrapper, np.arange(num_samples)), total=num_samples\n",
    "    ):\n",
    "        data += [x]"
   ]
  },
  {
   "cell_type": "code",
   "execution_count": null,
   "metadata": {
    "id": "R6VXbfNQ1OYQ"
   },
   "outputs": [],
   "source": [
    "data2 = process_parallel_data(data)\n",
    "efficiency_anti_correlated, y_anti_correlated, eta_ACN = data2"
   ]
  },
  {
   "cell_type": "code",
   "execution_count": 19,
   "metadata": {
    "id": "VjyjmimI1ObH"
   },
   "outputs": [],
   "source": [
    "# save_object(\n",
    "#     [efficiency_anti_correlated, y_anti_correlated, eta_ACN],\n",
    "#     \"../data/data_ACN.pkl\",\n",
    "# )"
   ]
  },
  {
   "cell_type": "code",
   "execution_count": 20,
   "metadata": {
    "executionInfo": {
     "elapsed": 302,
     "status": "ok",
     "timestamp": 1701787328728,
     "user": {
      "displayName": "Shreyasi Mukherjee",
      "userId": "04360795924075276805"
     },
     "user_tz": -60
    },
    "id": "YwigMJBMrhS-"
   },
   "outputs": [],
   "source": [
    "efficiency_anti_correlated, y_anti_correlated, eta_ACN = load_object(\n",
    "    \"../data/data_ACN.pkl\",\n",
    ")"
   ]
  },
  {
   "cell_type": "markdown",
   "metadata": {
    "id": "NAFtqtfrb0w7"
   },
   "source": [
    "## Data for uncorrelated, non-Markovian quasistatic noise"
   ]
  },
  {
   "cell_type": "code",
   "execution_count": 21,
   "metadata": {
    "id": "RqVu5wOpZ6WW"
   },
   "outputs": [],
   "source": [
    "# Range of correlation parameter η for uncorrelated, non-Markovian quasistatic noise\n",
    "ηrange_not_correlated = np.random.uniform(-5, 5, num_samples)\n",
    "\n",
    "\n",
    "def get_data_UCN_wrapper(i):\n",
    "    result = get_data_UCN(\n",
    "        t,\n",
    "        gaussian_2d,\n",
    "        Omega_p,\n",
    "        Omega_s,\n",
    "        Ωp_max,\n",
    "        Ωs_max,\n",
    "        [ηrange_not_correlated[i]],\n",
    "        num_trajectories,\n",
    "        1,\n",
    "        pars,\n",
    "    )\n",
    "    return result"
   ]
  },
  {
   "cell_type": "code",
   "execution_count": 22,
   "metadata": {
    "id": "fZVaCDHmZ6WX"
   },
   "outputs": [
    {
     "data": {
      "application/vnd.jupyter.widget-view+json": {
       "model_id": "2c1f4b073e4c428cb10c133e316806f9",
       "version_major": 2,
       "version_minor": 0
      },
      "text/plain": [
       "  0%|          | 0/50 [00:00<?, ?it/s]"
      ]
     },
     "metadata": {},
     "output_type": "display_data"
    }
   ],
   "source": [
    "data = []\n",
    "with Pool(processes=cpu_count() - 6) as pool:\n",
    "    for x in tqdm(\n",
    "        pool.imap(get_data_UCN_wrapper, np.arange(num_samples)), total=num_samples\n",
    "    ):\n",
    "        data += [x]"
   ]
  },
  {
   "cell_type": "code",
   "execution_count": 27,
   "metadata": {
    "id": "thL55kVGZ6WX"
   },
   "outputs": [],
   "source": [
    "data3 = process_parallel_data(data)\n",
    "efficiency_uncorrelated, y_uncorrelated, eta_UCN = data3"
   ]
  },
  {
   "cell_type": "code",
   "execution_count": 28,
   "metadata": {
    "id": "tzKMgyO-Z6WX"
   },
   "outputs": [],
   "source": [
    "# save_object(\n",
    "#     [efficiency_uncorrelated, y_uncorrelated, eta_UCN],\n",
    "#     \"../data/data_UCN.pkl\",\n",
    "# )"
   ]
  },
  {
   "cell_type": "code",
   "execution_count": 29,
   "metadata": {
    "executionInfo": {
     "elapsed": 395,
     "status": "ok",
     "timestamp": 1701787336362,
     "user": {
      "displayName": "Shreyasi Mukherjee",
      "userId": "04360795924075276805"
     },
     "user_tz": -60
    },
    "id": "WABZkiOhruMv"
   },
   "outputs": [],
   "source": [
    "efficiency_uncorrelated, y_uncorrelated, eta_UCN = load_object(\n",
    "    \"../data/data_UCN.pkl\",\n",
    ")"
   ]
  },
  {
   "cell_type": "markdown",
   "metadata": {},
   "source": [
    "## Data for Markovian (correlated and anticorrelated) noise"
   ]
  },
  {
   "cell_type": "code",
   "execution_count": 30,
   "metadata": {},
   "outputs": [],
   "source": [
    "# Range of correlation parameter η for Markovian noise\n",
    "# For the case of correlated noise, change the range as np.random.uniform(0.1, 5, num_samples)\"\n",
    "# For the case of anti-correlated noise, change the range as np.random.uniform(-5, -0.1, num_samples)\"\n",
    "ηrange_markovian = np.random.uniform(-5, 5, num_samples)\n",
    "\n",
    "\n",
    "def get_data_NQS_wrapper(i):\n",
    "    \"Remember to change 'separated = True' if correlated or anti-correlated case is considered!!!\"\n",
    "    result = get_data_NQS(\n",
    "        t,\n",
    "        Omega_p,\n",
    "        Omega_s,\n",
    "        Ωp_max,\n",
    "        Ωs_max,\n",
    "        [ηrange_markovian[i]],\n",
    "        1,\n",
    "        pars,\n",
    "        separated=False,\n",
    "    )\n",
    "    return result"
   ]
  },
  {
   "cell_type": "code",
   "execution_count": 31,
   "metadata": {},
   "outputs": [
    {
     "data": {
      "application/vnd.jupyter.widget-view+json": {
       "model_id": "bfb24c9d35c240e8893100b3b213e4c5",
       "version_major": 2,
       "version_minor": 0
      },
      "text/plain": [
       "  0%|          | 0/50 [00:00<?, ?it/s]"
      ]
     },
     "metadata": {},
     "output_type": "display_data"
    }
   ],
   "source": [
    "data = []\n",
    "with Pool(processes=cpu_count() - 8) as pool:\n",
    "    for x in tqdm(\n",
    "        pool.imap(get_data_NQS_wrapper, np.arange(num_samples)), total=num_samples\n",
    "    ):\n",
    "        data += [x]"
   ]
  },
  {
   "cell_type": "code",
   "execution_count": 32,
   "metadata": {},
   "outputs": [],
   "source": [
    "data6 = process_parallel_data(data)\n",
    "efficiency_markovian, y_markovian, eta_M = data6"
   ]
  },
  {
   "cell_type": "code",
   "execution_count": 33,
   "metadata": {},
   "outputs": [],
   "source": [
    "# save_object(\n",
    "#     [efficiency_markovian, y_markovian, eta_M],\n",
    "#     \"../data/data_CM.pkl\",\n",
    "# )"
   ]
  },
  {
   "cell_type": "code",
   "execution_count": 34,
   "metadata": {},
   "outputs": [],
   "source": [
    "efficiency_markovian, y_markovian, eta_M = load_object(\n",
    "    \"../data/data_CM.pkl\",\n",
    ")"
   ]
  },
  {
   "cell_type": "markdown",
   "metadata": {
    "id": "v15PxfryFKW2"
   },
   "source": [
    "# Calculation with finite number of projective measurement"
   ]
  },
  {
   "cell_type": "code",
   "execution_count": 68,
   "metadata": {
    "executionInfo": {
     "elapsed": 1037,
     "status": "ok",
     "timestamp": 1701790505724,
     "user": {
      "displayName": "Shreyasi Mukherjee",
      "userId": "04360795924075276805"
     },
     "user_tz": -60
    },
    "id": "owDXYeGoVbwD"
   },
   "outputs": [],
   "source": [
    "# Maximum tunnelling amplitudes under three conditions: Ωp_max = Ωs_max, Ωp_max > Ωs_max, Ωp_max < Ωs_max (same as before)\n",
    "Ωp_max = [50.0, 20 * np.sqrt(10), 10 * np.sqrt(10)]\n",
    "Ωs_max = [50.0, 10 * np.sqrt(10), 20 * np.sqrt(10)]\n",
    "\n",
    "# We generate each sample of data by averaging over 5k peojective measurements\n",
    "num_trajectories = 5000\n",
    "num_samples = 500"
   ]
  },
  {
   "cell_type": "markdown",
   "metadata": {},
   "source": [
    "## Data for correlated, non-Markovian quasistatic noise"
   ]
  },
  {
   "cell_type": "code",
   "execution_count": 40,
   "metadata": {
    "executionInfo": {
     "elapsed": 8,
     "status": "ok",
     "timestamp": 1701790509295,
     "user": {
      "displayName": "Shreyasi Mukherjee",
      "userId": "04360795924075276805"
     },
     "user_tz": -60
    },
    "id": "0Y4AWU9vVbwJ"
   },
   "outputs": [],
   "source": [
    "# Range of correlation parameter η for correlated, non-Markovian quasistatic noise\n",
    "ηrange_correlated = np.random.uniform(0.1, 5, num_samples)\n",
    "\n",
    "\n",
    "# Generation of data with multiprocessing unit\n",
    "def get_data_CN_finite_wrapper(i):\n",
    "    result = get_data_CN_finite(\n",
    "        t,\n",
    "        t_noise,\n",
    "        gaussian,\n",
    "        Omega_p,\n",
    "        Omega_s,\n",
    "        Ωp_max,\n",
    "        Ωs_max,\n",
    "        [ηrange_correlated[i]],\n",
    "        num_trajectories,\n",
    "        1,\n",
    "        pars,\n",
    "    )\n",
    "    return result"
   ]
  },
  {
   "cell_type": "code",
   "execution_count": 41,
   "metadata": {
    "colab": {
     "base_uri": "https://localhost:8080/",
     "height": 510,
     "referenced_widgets": [
      "e4b2c91d46da4e02a3c24e9e9717baeb",
      "54fbb384b5064e588d1252c511c00908",
      "0d359b88ec6042acbe9ec6d122476d7d",
      "d01a9a31f7f34de6b7532ac3d87bf32a",
      "41e4d8d325ba493bbfdce086d9a9699f",
      "6981d518ce314560b7b86003194596e2",
      "5f8966757b404d89ac1591bacfab3f91",
      "d4723e9f4b3a470baa4424b27e82f5e1",
      "5f3d5ed443834c96b11de210b09d5a37",
      "3f35671dfd6340469c1c54ed4a017a91",
      "984ec3bcaa984213a34b753f3b005b4b"
     ]
    },
    "executionInfo": {
     "elapsed": 7632908,
     "status": "error",
     "timestamp": 1701798143648,
     "user": {
      "displayName": "Shreyasi Mukherjee",
      "userId": "04360795924075276805"
     },
     "user_tz": -60
    },
    "id": "cw489QzEVbwK",
    "outputId": "d817df6d-e2b0-4ac8-cfae-e10dbcb83529"
   },
   "outputs": [
    {
     "data": {
      "application/vnd.jupyter.widget-view+json": {
       "model_id": "81a569e8286a4d55917670cf7b63b3a2",
       "version_major": 2,
       "version_minor": 0
      },
      "text/plain": [
       "  0%|          | 0/50 [00:00<?, ?it/s]"
      ]
     },
     "metadata": {},
     "output_type": "display_data"
    }
   ],
   "source": [
    "data = []\n",
    "with Pool(processes=cpu_count() - 6) as pool:\n",
    "    for x in tqdm(\n",
    "        pool.imap(get_data_CN_finite_wrapper, np.arange(num_samples)), total=num_samples\n",
    "    ):\n",
    "        data += [x]"
   ]
  },
  {
   "cell_type": "code",
   "execution_count": 44,
   "metadata": {
    "id": "5d9Wt7oGVbwM"
   },
   "outputs": [],
   "source": [
    "data1 = process_parallel_data(data)\n",
    "efficiency_correlated, y_correlated, eta_CN, S_CN = data1"
   ]
  },
  {
   "cell_type": "code",
   "execution_count": 45,
   "metadata": {
    "id": "BDf5ufj1VbwN"
   },
   "outputs": [],
   "source": [
    "# save_object(\n",
    "#     [efficiency_correlated, y_correlated, eta_CN, S_CN],\n",
    "#     \"../data/dataE_CN.pkl\",\n",
    "# )"
   ]
  },
  {
   "cell_type": "code",
   "execution_count": 46,
   "metadata": {
    "colab": {
     "base_uri": "https://localhost:8080/",
     "height": 231
    },
    "executionInfo": {
     "elapsed": 930,
     "status": "error",
     "timestamp": 1701789425088,
     "user": {
      "displayName": "Shreyasi Mukherjee",
      "userId": "04360795924075276805"
     },
     "user_tz": -60
    },
    "id": "Tl8z4eR9VbwN",
    "outputId": "5a1a8e90-e572-4951-f88b-e3d87fd37d77"
   },
   "outputs": [],
   "source": [
    "efficiency_correlated, y_correlated, eta_CN, S_CN = load_object(\"../data/dataE_CN.pkl\")"
   ]
  },
  {
   "cell_type": "code",
   "execution_count": 47,
   "metadata": {},
   "outputs": [
    {
     "data": {
      "text/plain": [
       "(50, 3, 50)"
      ]
     },
     "execution_count": 47,
     "metadata": {},
     "output_type": "execute_result"
    }
   ],
   "source": [
    "np.array(S_CN).shape"
   ]
  },
  {
   "cell_type": "markdown",
   "metadata": {
    "id": "a-NlgKtSVbwO"
   },
   "source": [
    "## Data for anti-correlated, non-Markovian quasistatic noise"
   ]
  },
  {
   "cell_type": "code",
   "execution_count": 48,
   "metadata": {
    "id": "49Wp6PAJVbwP"
   },
   "outputs": [],
   "source": [
    "# Range of correlation parameter η for correlated, non-Markovian quasistatic noise\n",
    "ηrange_anti_correlated = np.random.uniform(-5, -0.1, num_samples)\n",
    "\n",
    "\n",
    "def get_data_ACN_finite_wrapper(i):\n",
    "    result = get_data_ACN_finite(\n",
    "        t,\n",
    "        t_noise,\n",
    "        gaussian,\n",
    "        Omega_p,\n",
    "        Omega_s,\n",
    "        Ωp_max,\n",
    "        Ωs_max,\n",
    "        [ηrange_anti_correlated[i]],\n",
    "        num_trajectories,\n",
    "        1,\n",
    "        pars,\n",
    "    )\n",
    "    return result"
   ]
  },
  {
   "cell_type": "code",
   "execution_count": 49,
   "metadata": {
    "id": "vhQckwJeVbwQ",
    "outputId": "3aed8839-8dad-435d-b45e-d3b19680af33"
   },
   "outputs": [
    {
     "data": {
      "application/vnd.jupyter.widget-view+json": {
       "model_id": "f53f564c6c9d448cac4cf98bfb327301",
       "version_major": 2,
       "version_minor": 0
      },
      "text/plain": [
       "  0%|          | 0/50 [00:00<?, ?it/s]"
      ]
     },
     "metadata": {},
     "output_type": "display_data"
    }
   ],
   "source": [
    "data = []\n",
    "with Pool(processes=cpu_count() - 6) as pool:\n",
    "    for x in tqdm(\n",
    "        pool.imap(get_data_ACN_finite_wrapper, np.arange(num_samples)),\n",
    "        total=num_samples,\n",
    "    ):\n",
    "        data += [x]"
   ]
  },
  {
   "cell_type": "code",
   "execution_count": 50,
   "metadata": {
    "id": "s5IWt1nzVbwR"
   },
   "outputs": [],
   "source": [
    "data2 = process_parallel_data(data)\n",
    "efficiency_anti_correlated, y_anti_correlated, eta_ACN, S_ACN = data2"
   ]
  },
  {
   "cell_type": "code",
   "execution_count": 51,
   "metadata": {
    "id": "tnYydC6iVbwS"
   },
   "outputs": [],
   "source": [
    "# save_object(\n",
    "#     [efficiency_anti_correlated, y_anti_correlated, eta_ACN, S_ACN],\n",
    "#     \"../data/dataE_ACN.pkl\",\n",
    "# )"
   ]
  },
  {
   "cell_type": "code",
   "execution_count": 52,
   "metadata": {
    "id": "gRsVRAOIVbwS"
   },
   "outputs": [],
   "source": [
    "efficiency_anti_correlated, y_anti_correlated, eta_ACN, S_ACN = load_object(\n",
    "    \"../data/dataE_ACN.pkl\"\n",
    ")"
   ]
  },
  {
   "cell_type": "code",
   "execution_count": 53,
   "metadata": {},
   "outputs": [
    {
     "data": {
      "text/plain": [
       "(50, 3, 50)"
      ]
     },
     "execution_count": 53,
     "metadata": {},
     "output_type": "execute_result"
    }
   ],
   "source": [
    "np.array(S_ACN).shape"
   ]
  },
  {
   "cell_type": "markdown",
   "metadata": {
    "id": "Ydzc4oFWVbwT"
   },
   "source": [
    "## Data for uncorrelated, non-Markovian quasistatic noise"
   ]
  },
  {
   "cell_type": "code",
   "execution_count": 54,
   "metadata": {
    "id": "GgUwegPGVbwU"
   },
   "outputs": [],
   "source": [
    "# Range of correlation parameter η for uncorrelated, non-Markovian quasistatic noise\n",
    "ηrange_not_correlated = np.random.uniform(-5, 5, num_samples)\n",
    "\n",
    "\n",
    "def get_data_UCN_finite_wrapper(i):\n",
    "    result = get_data_UCN_finite(\n",
    "        t,\n",
    "        t_noise,\n",
    "        gaussian,\n",
    "        Omega_p,\n",
    "        Omega_s,\n",
    "        Ωp_max,\n",
    "        Ωs_max,\n",
    "        [ηrange_not_correlated[i]],\n",
    "        num_trajectories,\n",
    "        1,\n",
    "        pars,\n",
    "    )\n",
    "    return result"
   ]
  },
  {
   "cell_type": "code",
   "execution_count": 55,
   "metadata": {
    "id": "xKbnRvcjVbwV"
   },
   "outputs": [
    {
     "data": {
      "application/vnd.jupyter.widget-view+json": {
       "model_id": "08e1aee7550d433381cde445656d6920",
       "version_major": 2,
       "version_minor": 0
      },
      "text/plain": [
       "  0%|          | 0/50 [00:00<?, ?it/s]"
      ]
     },
     "metadata": {},
     "output_type": "display_data"
    }
   ],
   "source": [
    "data = []\n",
    "with Pool(processes=cpu_count() - 6) as pool:\n",
    "    for x in tqdm(\n",
    "        pool.imap(get_data_UCN_finite_wrapper, np.arange(num_samples)),\n",
    "        total=num_samples,\n",
    "    ):\n",
    "        data += [x]"
   ]
  },
  {
   "cell_type": "code",
   "execution_count": 56,
   "metadata": {
    "id": "UpyTgbGuVbwW"
   },
   "outputs": [],
   "source": [
    "data3 = process_parallel_data(data)\n",
    "efficiency_uncorrelated, y_uncorrelated, eta_UCN, S_UCN = data3"
   ]
  },
  {
   "cell_type": "code",
   "execution_count": 57,
   "metadata": {
    "id": "YGVFC8AqVbwX"
   },
   "outputs": [],
   "source": [
    "# save_object(\n",
    "#     [efficiency_uncorrelated, y_uncorrelated, eta_UCN, S_UCN],\n",
    "#     \"../data/dataE_UCN.pkl\",\n",
    "# )"
   ]
  },
  {
   "cell_type": "code",
   "execution_count": 60,
   "metadata": {
    "id": "0JAUKuTQVbwX"
   },
   "outputs": [],
   "source": [
    "efficiency_uncorrelated, y_uncorrelated, eta_UCN, S_UCN = load_object(\n",
    "    \"../data/dataE_UCN.pkl\"\n",
    ")"
   ]
  },
  {
   "cell_type": "code",
   "execution_count": 61,
   "metadata": {},
   "outputs": [
    {
     "data": {
      "text/plain": [
       "(50, 3, 50)"
      ]
     },
     "execution_count": 61,
     "metadata": {},
     "output_type": "execute_result"
    }
   ],
   "source": [
    "np.array(S_UCN).shape"
   ]
  },
  {
   "cell_type": "markdown",
   "metadata": {
    "id": "Yg1Yjin7fp_F"
   },
   "source": [
    "## Data for Markovian noise"
   ]
  },
  {
   "cell_type": "code",
   "execution_count": 62,
   "metadata": {
    "id": "nR4y113afp_R"
   },
   "outputs": [],
   "source": [
    "# Range of correlation parameter η for Markovian noise\n",
    "ηrange_nonquasistatic = np.random.uniform(-5, 5, num_samples)\n",
    "\n",
    "\n",
    "def get_data_NQS_finite_wrapper(i):\n",
    "    result = get_data_NQS_finite(\n",
    "        t,\n",
    "        t_noise,\n",
    "        gaussian,\n",
    "        Omega_p,\n",
    "        Omega_s,\n",
    "        Ωp_max,\n",
    "        Ωs_max,\n",
    "        [ηrange_nonquasistatic[i]],\n",
    "        num_trajectories,\n",
    "        1,\n",
    "        pars,\n",
    "    )\n",
    "    return result"
   ]
  },
  {
   "cell_type": "code",
   "execution_count": 63,
   "metadata": {
    "id": "6N05uQFyfp_R",
    "outputId": "94832cbe-1ab4-4d78-a99d-55bfcb2814b4"
   },
   "outputs": [
    {
     "data": {
      "application/vnd.jupyter.widget-view+json": {
       "model_id": "95ffcfe57ed5403e9cf67d835400a3f8",
       "version_major": 2,
       "version_minor": 0
      },
      "text/plain": [
       "  0%|          | 0/50 [00:00<?, ?it/s]"
      ]
     },
     "metadata": {},
     "output_type": "display_data"
    }
   ],
   "source": [
    "data = []\n",
    "with Pool(processes=cpu_count() - 6) as pool:\n",
    "    for x in tqdm(\n",
    "        pool.imap(get_data_NQS_finite_wrapper, np.arange(num_samples)),\n",
    "        total=num_samples,\n",
    "    ):\n",
    "        data += [x]"
   ]
  },
  {
   "cell_type": "code",
   "execution_count": 64,
   "metadata": {
    "id": "oQijdBRIfp_S"
   },
   "outputs": [],
   "source": [
    "data4 = process_parallel_data(data)\n",
    "efficiency_non_quasistaic, y_non_quasistaic, eta_NQS, S_NQS = data4"
   ]
  },
  {
   "cell_type": "code",
   "execution_count": 65,
   "metadata": {
    "id": "XfZCaYVQfp_S"
   },
   "outputs": [],
   "source": [
    "# save_object(\n",
    "#     [efficiency_non_quasistaic, y_non_quasistaic, eta_NQS, S_NQS],\n",
    "#     \"../data/dataE_M.pkl\",\n",
    "# )"
   ]
  },
  {
   "cell_type": "code",
   "execution_count": 66,
   "metadata": {
    "id": "GwETeVEdfp_T"
   },
   "outputs": [],
   "source": [
    "efficiency_non_quasistaic, y_non_quasistaic, eta_NQS, S_NQS = load_object(\n",
    "    \"../data/dataE_M.pkl\"\n",
    ")"
   ]
  },
  {
   "cell_type": "code",
   "execution_count": null,
   "metadata": {},
   "outputs": [],
   "source": []
  }
 ],
 "metadata": {
  "accelerator": "GPU",
  "colab": {
   "gpuType": "T4",
   "provenance": []
  },
  "kernelspec": {
   "display_name": "TensorFlow + QuTiP 4.7",
   "language": "python",
   "name": "tensorflow_qutip4"
  },
  "language_info": {
   "codemirror_mode": {
    "name": "ipython",
    "version": 3
   },
   "file_extension": ".py",
   "mimetype": "text/x-python",
   "name": "python",
   "nbconvert_exporter": "python",
   "pygments_lexer": "ipython3",
   "version": "3.11.9"
  },
  "toc-autonumbering": true,
  "toc-showcode": false,
  "toc-showmarkdowntxt": true,
  "widgets": {
   "application/vnd.jupyter.widget-state+json": {
    "0d359b88ec6042acbe9ec6d122476d7d": {
     "model_module": "@jupyter-widgets/controls",
     "model_module_version": "1.5.0",
     "model_name": "FloatProgressModel",
     "state": {
      "_dom_classes": [],
      "_model_module": "@jupyter-widgets/controls",
      "_model_module_version": "1.5.0",
      "_model_name": "FloatProgressModel",
      "_view_count": null,
      "_view_module": "@jupyter-widgets/controls",
      "_view_module_version": "1.5.0",
      "_view_name": "ProgressView",
      "bar_style": "danger",
      "description": "",
      "description_tooltip": null,
      "layout": "IPY_MODEL_d4723e9f4b3a470baa4424b27e82f5e1",
      "max": 500,
      "min": 0,
      "orientation": "horizontal",
      "style": "IPY_MODEL_5f3d5ed443834c96b11de210b09d5a37",
      "value": 48
     }
    },
    "14be2fba89094bcbb936b2fbfddfea1b": {
     "model_module": "@jupyter-widgets/controls",
     "model_module_version": "1.5.0",
     "model_name": "DescriptionStyleModel",
     "state": {
      "_model_module": "@jupyter-widgets/controls",
      "_model_module_version": "1.5.0",
      "_model_name": "DescriptionStyleModel",
      "_view_count": null,
      "_view_module": "@jupyter-widgets/base",
      "_view_module_version": "1.2.0",
      "_view_name": "StyleView",
      "description_width": ""
     }
    },
    "2e1ea9429c1e4d0fb53717cce0608c40": {
     "model_module": "@jupyter-widgets/controls",
     "model_module_version": "1.5.0",
     "model_name": "HTMLModel",
     "state": {
      "_dom_classes": [],
      "_model_module": "@jupyter-widgets/controls",
      "_model_module_version": "1.5.0",
      "_model_name": "HTMLModel",
      "_view_count": null,
      "_view_module": "@jupyter-widgets/controls",
      "_view_module_version": "1.5.0",
      "_view_name": "HTMLView",
      "description": "",
      "description_tooltip": null,
      "layout": "IPY_MODEL_4e51b9dc2e4e4858a034867e5b2d0ce7",
      "placeholder": "​",
      "style": "IPY_MODEL_14be2fba89094bcbb936b2fbfddfea1b",
      "value": "100%"
     }
    },
    "376af29122e14970b1deb179b213dc86": {
     "model_module": "@jupyter-widgets/controls",
     "model_module_version": "1.5.0",
     "model_name": "HTMLModel",
     "state": {
      "_dom_classes": [],
      "_model_module": "@jupyter-widgets/controls",
      "_model_module_version": "1.5.0",
      "_model_name": "HTMLModel",
      "_view_count": null,
      "_view_module": "@jupyter-widgets/controls",
      "_view_module_version": "1.5.0",
      "_view_name": "HTMLView",
      "description": "",
      "description_tooltip": null,
      "layout": "IPY_MODEL_c426181ef4ef4eb8bfdf895abbacf8b9",
      "placeholder": "​",
      "style": "IPY_MODEL_efbfadb743b84f189deb78c331660b29",
      "value": " 500/500 [00:51&lt;00:00,  9.29it/s]"
     }
    },
    "3f35671dfd6340469c1c54ed4a017a91": {
     "model_module": "@jupyter-widgets/base",
     "model_module_version": "1.2.0",
     "model_name": "LayoutModel",
     "state": {
      "_model_module": "@jupyter-widgets/base",
      "_model_module_version": "1.2.0",
      "_model_name": "LayoutModel",
      "_view_count": null,
      "_view_module": "@jupyter-widgets/base",
      "_view_module_version": "1.2.0",
      "_view_name": "LayoutView",
      "align_content": null,
      "align_items": null,
      "align_self": null,
      "border": null,
      "bottom": null,
      "display": null,
      "flex": null,
      "flex_flow": null,
      "grid_area": null,
      "grid_auto_columns": null,
      "grid_auto_flow": null,
      "grid_auto_rows": null,
      "grid_column": null,
      "grid_gap": null,
      "grid_row": null,
      "grid_template_areas": null,
      "grid_template_columns": null,
      "grid_template_rows": null,
      "height": null,
      "justify_content": null,
      "justify_items": null,
      "left": null,
      "margin": null,
      "max_height": null,
      "max_width": null,
      "min_height": null,
      "min_width": null,
      "object_fit": null,
      "object_position": null,
      "order": null,
      "overflow": null,
      "overflow_x": null,
      "overflow_y": null,
      "padding": null,
      "right": null,
      "top": null,
      "visibility": null,
      "width": null
     }
    },
    "41e4d8d325ba493bbfdce086d9a9699f": {
     "model_module": "@jupyter-widgets/base",
     "model_module_version": "1.2.0",
     "model_name": "LayoutModel",
     "state": {
      "_model_module": "@jupyter-widgets/base",
      "_model_module_version": "1.2.0",
      "_model_name": "LayoutModel",
      "_view_count": null,
      "_view_module": "@jupyter-widgets/base",
      "_view_module_version": "1.2.0",
      "_view_name": "LayoutView",
      "align_content": null,
      "align_items": null,
      "align_self": null,
      "border": null,
      "bottom": null,
      "display": null,
      "flex": null,
      "flex_flow": null,
      "grid_area": null,
      "grid_auto_columns": null,
      "grid_auto_flow": null,
      "grid_auto_rows": null,
      "grid_column": null,
      "grid_gap": null,
      "grid_row": null,
      "grid_template_areas": null,
      "grid_template_columns": null,
      "grid_template_rows": null,
      "height": null,
      "justify_content": null,
      "justify_items": null,
      "left": null,
      "margin": null,
      "max_height": null,
      "max_width": null,
      "min_height": null,
      "min_width": null,
      "object_fit": null,
      "object_position": null,
      "order": null,
      "overflow": null,
      "overflow_x": null,
      "overflow_y": null,
      "padding": null,
      "right": null,
      "top": null,
      "visibility": null,
      "width": null
     }
    },
    "4e51b9dc2e4e4858a034867e5b2d0ce7": {
     "model_module": "@jupyter-widgets/base",
     "model_module_version": "1.2.0",
     "model_name": "LayoutModel",
     "state": {
      "_model_module": "@jupyter-widgets/base",
      "_model_module_version": "1.2.0",
      "_model_name": "LayoutModel",
      "_view_count": null,
      "_view_module": "@jupyter-widgets/base",
      "_view_module_version": "1.2.0",
      "_view_name": "LayoutView",
      "align_content": null,
      "align_items": null,
      "align_self": null,
      "border": null,
      "bottom": null,
      "display": null,
      "flex": null,
      "flex_flow": null,
      "grid_area": null,
      "grid_auto_columns": null,
      "grid_auto_flow": null,
      "grid_auto_rows": null,
      "grid_column": null,
      "grid_gap": null,
      "grid_row": null,
      "grid_template_areas": null,
      "grid_template_columns": null,
      "grid_template_rows": null,
      "height": null,
      "justify_content": null,
      "justify_items": null,
      "left": null,
      "margin": null,
      "max_height": null,
      "max_width": null,
      "min_height": null,
      "min_width": null,
      "object_fit": null,
      "object_position": null,
      "order": null,
      "overflow": null,
      "overflow_x": null,
      "overflow_y": null,
      "padding": null,
      "right": null,
      "top": null,
      "visibility": null,
      "width": null
     }
    },
    "54ccb7b1a4cc4e1ebc60f60897aaf399": {
     "model_module": "@jupyter-widgets/controls",
     "model_module_version": "1.5.0",
     "model_name": "FloatProgressModel",
     "state": {
      "_dom_classes": [],
      "_model_module": "@jupyter-widgets/controls",
      "_model_module_version": "1.5.0",
      "_model_name": "FloatProgressModel",
      "_view_count": null,
      "_view_module": "@jupyter-widgets/controls",
      "_view_module_version": "1.5.0",
      "_view_name": "ProgressView",
      "bar_style": "success",
      "description": "",
      "description_tooltip": null,
      "layout": "IPY_MODEL_6cdab51bd8f44762b6597ee5cd1c8400",
      "max": 500,
      "min": 0,
      "orientation": "horizontal",
      "style": "IPY_MODEL_970598a5c5f4434f9eb8a2da6cef39ef",
      "value": 500
     }
    },
    "54fbb384b5064e588d1252c511c00908": {
     "model_module": "@jupyter-widgets/controls",
     "model_module_version": "1.5.0",
     "model_name": "HTMLModel",
     "state": {
      "_dom_classes": [],
      "_model_module": "@jupyter-widgets/controls",
      "_model_module_version": "1.5.0",
      "_model_name": "HTMLModel",
      "_view_count": null,
      "_view_module": "@jupyter-widgets/controls",
      "_view_module_version": "1.5.0",
      "_view_name": "HTMLView",
      "description": "",
      "description_tooltip": null,
      "layout": "IPY_MODEL_6981d518ce314560b7b86003194596e2",
      "placeholder": "​",
      "style": "IPY_MODEL_5f8966757b404d89ac1591bacfab3f91",
      "value": " 10%"
     }
    },
    "5f3d5ed443834c96b11de210b09d5a37": {
     "model_module": "@jupyter-widgets/controls",
     "model_module_version": "1.5.0",
     "model_name": "ProgressStyleModel",
     "state": {
      "_model_module": "@jupyter-widgets/controls",
      "_model_module_version": "1.5.0",
      "_model_name": "ProgressStyleModel",
      "_view_count": null,
      "_view_module": "@jupyter-widgets/base",
      "_view_module_version": "1.2.0",
      "_view_name": "StyleView",
      "bar_color": null,
      "description_width": ""
     }
    },
    "5f8966757b404d89ac1591bacfab3f91": {
     "model_module": "@jupyter-widgets/controls",
     "model_module_version": "1.5.0",
     "model_name": "DescriptionStyleModel",
     "state": {
      "_model_module": "@jupyter-widgets/controls",
      "_model_module_version": "1.5.0",
      "_model_name": "DescriptionStyleModel",
      "_view_count": null,
      "_view_module": "@jupyter-widgets/base",
      "_view_module_version": "1.2.0",
      "_view_name": "StyleView",
      "description_width": ""
     }
    },
    "6981d518ce314560b7b86003194596e2": {
     "model_module": "@jupyter-widgets/base",
     "model_module_version": "1.2.0",
     "model_name": "LayoutModel",
     "state": {
      "_model_module": "@jupyter-widgets/base",
      "_model_module_version": "1.2.0",
      "_model_name": "LayoutModel",
      "_view_count": null,
      "_view_module": "@jupyter-widgets/base",
      "_view_module_version": "1.2.0",
      "_view_name": "LayoutView",
      "align_content": null,
      "align_items": null,
      "align_self": null,
      "border": null,
      "bottom": null,
      "display": null,
      "flex": null,
      "flex_flow": null,
      "grid_area": null,
      "grid_auto_columns": null,
      "grid_auto_flow": null,
      "grid_auto_rows": null,
      "grid_column": null,
      "grid_gap": null,
      "grid_row": null,
      "grid_template_areas": null,
      "grid_template_columns": null,
      "grid_template_rows": null,
      "height": null,
      "justify_content": null,
      "justify_items": null,
      "left": null,
      "margin": null,
      "max_height": null,
      "max_width": null,
      "min_height": null,
      "min_width": null,
      "object_fit": null,
      "object_position": null,
      "order": null,
      "overflow": null,
      "overflow_x": null,
      "overflow_y": null,
      "padding": null,
      "right": null,
      "top": null,
      "visibility": null,
      "width": null
     }
    },
    "6cdab51bd8f44762b6597ee5cd1c8400": {
     "model_module": "@jupyter-widgets/base",
     "model_module_version": "1.2.0",
     "model_name": "LayoutModel",
     "state": {
      "_model_module": "@jupyter-widgets/base",
      "_model_module_version": "1.2.0",
      "_model_name": "LayoutModel",
      "_view_count": null,
      "_view_module": "@jupyter-widgets/base",
      "_view_module_version": "1.2.0",
      "_view_name": "LayoutView",
      "align_content": null,
      "align_items": null,
      "align_self": null,
      "border": null,
      "bottom": null,
      "display": null,
      "flex": null,
      "flex_flow": null,
      "grid_area": null,
      "grid_auto_columns": null,
      "grid_auto_flow": null,
      "grid_auto_rows": null,
      "grid_column": null,
      "grid_gap": null,
      "grid_row": null,
      "grid_template_areas": null,
      "grid_template_columns": null,
      "grid_template_rows": null,
      "height": null,
      "justify_content": null,
      "justify_items": null,
      "left": null,
      "margin": null,
      "max_height": null,
      "max_width": null,
      "min_height": null,
      "min_width": null,
      "object_fit": null,
      "object_position": null,
      "order": null,
      "overflow": null,
      "overflow_x": null,
      "overflow_y": null,
      "padding": null,
      "right": null,
      "top": null,
      "visibility": null,
      "width": null
     }
    },
    "970598a5c5f4434f9eb8a2da6cef39ef": {
     "model_module": "@jupyter-widgets/controls",
     "model_module_version": "1.5.0",
     "model_name": "ProgressStyleModel",
     "state": {
      "_model_module": "@jupyter-widgets/controls",
      "_model_module_version": "1.5.0",
      "_model_name": "ProgressStyleModel",
      "_view_count": null,
      "_view_module": "@jupyter-widgets/base",
      "_view_module_version": "1.2.0",
      "_view_name": "StyleView",
      "bar_color": null,
      "description_width": ""
     }
    },
    "984ec3bcaa984213a34b753f3b005b4b": {
     "model_module": "@jupyter-widgets/controls",
     "model_module_version": "1.5.0",
     "model_name": "DescriptionStyleModel",
     "state": {
      "_model_module": "@jupyter-widgets/controls",
      "_model_module_version": "1.5.0",
      "_model_name": "DescriptionStyleModel",
      "_view_count": null,
      "_view_module": "@jupyter-widgets/base",
      "_view_module_version": "1.2.0",
      "_view_name": "StyleView",
      "description_width": ""
     }
    },
    "c426181ef4ef4eb8bfdf895abbacf8b9": {
     "model_module": "@jupyter-widgets/base",
     "model_module_version": "1.2.0",
     "model_name": "LayoutModel",
     "state": {
      "_model_module": "@jupyter-widgets/base",
      "_model_module_version": "1.2.0",
      "_model_name": "LayoutModel",
      "_view_count": null,
      "_view_module": "@jupyter-widgets/base",
      "_view_module_version": "1.2.0",
      "_view_name": "LayoutView",
      "align_content": null,
      "align_items": null,
      "align_self": null,
      "border": null,
      "bottom": null,
      "display": null,
      "flex": null,
      "flex_flow": null,
      "grid_area": null,
      "grid_auto_columns": null,
      "grid_auto_flow": null,
      "grid_auto_rows": null,
      "grid_column": null,
      "grid_gap": null,
      "grid_row": null,
      "grid_template_areas": null,
      "grid_template_columns": null,
      "grid_template_rows": null,
      "height": null,
      "justify_content": null,
      "justify_items": null,
      "left": null,
      "margin": null,
      "max_height": null,
      "max_width": null,
      "min_height": null,
      "min_width": null,
      "object_fit": null,
      "object_position": null,
      "order": null,
      "overflow": null,
      "overflow_x": null,
      "overflow_y": null,
      "padding": null,
      "right": null,
      "top": null,
      "visibility": null,
      "width": null
     }
    },
    "d01a9a31f7f34de6b7532ac3d87bf32a": {
     "model_module": "@jupyter-widgets/controls",
     "model_module_version": "1.5.0",
     "model_name": "HTMLModel",
     "state": {
      "_dom_classes": [],
      "_model_module": "@jupyter-widgets/controls",
      "_model_module_version": "1.5.0",
      "_model_name": "HTMLModel",
      "_view_count": null,
      "_view_module": "@jupyter-widgets/controls",
      "_view_module_version": "1.5.0",
      "_view_name": "HTMLView",
      "description": "",
      "description_tooltip": null,
      "layout": "IPY_MODEL_3f35671dfd6340469c1c54ed4a017a91",
      "placeholder": "​",
      "style": "IPY_MODEL_984ec3bcaa984213a34b753f3b005b4b",
      "value": " 48/500 [2:07:12&lt;18:03:14, 143.79s/it]"
     }
    },
    "d4723e9f4b3a470baa4424b27e82f5e1": {
     "model_module": "@jupyter-widgets/base",
     "model_module_version": "1.2.0",
     "model_name": "LayoutModel",
     "state": {
      "_model_module": "@jupyter-widgets/base",
      "_model_module_version": "1.2.0",
      "_model_name": "LayoutModel",
      "_view_count": null,
      "_view_module": "@jupyter-widgets/base",
      "_view_module_version": "1.2.0",
      "_view_name": "LayoutView",
      "align_content": null,
      "align_items": null,
      "align_self": null,
      "border": null,
      "bottom": null,
      "display": null,
      "flex": null,
      "flex_flow": null,
      "grid_area": null,
      "grid_auto_columns": null,
      "grid_auto_flow": null,
      "grid_auto_rows": null,
      "grid_column": null,
      "grid_gap": null,
      "grid_row": null,
      "grid_template_areas": null,
      "grid_template_columns": null,
      "grid_template_rows": null,
      "height": null,
      "justify_content": null,
      "justify_items": null,
      "left": null,
      "margin": null,
      "max_height": null,
      "max_width": null,
      "min_height": null,
      "min_width": null,
      "object_fit": null,
      "object_position": null,
      "order": null,
      "overflow": null,
      "overflow_x": null,
      "overflow_y": null,
      "padding": null,
      "right": null,
      "top": null,
      "visibility": null,
      "width": null
     }
    },
    "da6225ca4707494aadb9f31884e51c6c": {
     "model_module": "@jupyter-widgets/base",
     "model_module_version": "1.2.0",
     "model_name": "LayoutModel",
     "state": {
      "_model_module": "@jupyter-widgets/base",
      "_model_module_version": "1.2.0",
      "_model_name": "LayoutModel",
      "_view_count": null,
      "_view_module": "@jupyter-widgets/base",
      "_view_module_version": "1.2.0",
      "_view_name": "LayoutView",
      "align_content": null,
      "align_items": null,
      "align_self": null,
      "border": null,
      "bottom": null,
      "display": null,
      "flex": null,
      "flex_flow": null,
      "grid_area": null,
      "grid_auto_columns": null,
      "grid_auto_flow": null,
      "grid_auto_rows": null,
      "grid_column": null,
      "grid_gap": null,
      "grid_row": null,
      "grid_template_areas": null,
      "grid_template_columns": null,
      "grid_template_rows": null,
      "height": null,
      "justify_content": null,
      "justify_items": null,
      "left": null,
      "margin": null,
      "max_height": null,
      "max_width": null,
      "min_height": null,
      "min_width": null,
      "object_fit": null,
      "object_position": null,
      "order": null,
      "overflow": null,
      "overflow_x": null,
      "overflow_y": null,
      "padding": null,
      "right": null,
      "top": null,
      "visibility": null,
      "width": null
     }
    },
    "e4b2c91d46da4e02a3c24e9e9717baeb": {
     "model_module": "@jupyter-widgets/controls",
     "model_module_version": "1.5.0",
     "model_name": "HBoxModel",
     "state": {
      "_dom_classes": [],
      "_model_module": "@jupyter-widgets/controls",
      "_model_module_version": "1.5.0",
      "_model_name": "HBoxModel",
      "_view_count": null,
      "_view_module": "@jupyter-widgets/controls",
      "_view_module_version": "1.5.0",
      "_view_name": "HBoxView",
      "box_style": "",
      "children": [
       "IPY_MODEL_54fbb384b5064e588d1252c511c00908",
       "IPY_MODEL_0d359b88ec6042acbe9ec6d122476d7d",
       "IPY_MODEL_d01a9a31f7f34de6b7532ac3d87bf32a"
      ],
      "layout": "IPY_MODEL_41e4d8d325ba493bbfdce086d9a9699f"
     }
    },
    "efbfadb743b84f189deb78c331660b29": {
     "model_module": "@jupyter-widgets/controls",
     "model_module_version": "1.5.0",
     "model_name": "DescriptionStyleModel",
     "state": {
      "_model_module": "@jupyter-widgets/controls",
      "_model_module_version": "1.5.0",
      "_model_name": "DescriptionStyleModel",
      "_view_count": null,
      "_view_module": "@jupyter-widgets/base",
      "_view_module_version": "1.2.0",
      "_view_name": "StyleView",
      "description_width": ""
     }
    },
    "fa9b035ffce941919d3618f58e61c73b": {
     "model_module": "@jupyter-widgets/controls",
     "model_module_version": "1.5.0",
     "model_name": "HBoxModel",
     "state": {
      "_dom_classes": [],
      "_model_module": "@jupyter-widgets/controls",
      "_model_module_version": "1.5.0",
      "_model_name": "HBoxModel",
      "_view_count": null,
      "_view_module": "@jupyter-widgets/controls",
      "_view_module_version": "1.5.0",
      "_view_name": "HBoxView",
      "box_style": "",
      "children": [
       "IPY_MODEL_2e1ea9429c1e4d0fb53717cce0608c40",
       "IPY_MODEL_54ccb7b1a4cc4e1ebc60f60897aaf399",
       "IPY_MODEL_376af29122e14970b1deb179b213dc86"
      ],
      "layout": "IPY_MODEL_da6225ca4707494aadb9f31884e51c6c"
     }
    }
   }
  }
 },
 "nbformat": 4,
 "nbformat_minor": 4
}
